{
 "cells": [
  {
   "cell_type": "code",
   "execution_count": 1,
   "metadata": {},
   "outputs": [
    {
     "name": "stderr",
     "output_type": "stream",
     "text": [
      "/home/rupesh/anaconda3/lib/python3.7/site-packages/bs4/__init__.py:357: UserWarning: \"https://www.onlinekhabar.com/content/news\" looks like a URL. Beautiful Soup is not an HTTP client. You should probably use an HTTP client like requests to get the document behind the URL, and feed that document to Beautiful Soup.\n",
      "  ' that document to Beautiful Soup.' % decoded_markup\n"
     ]
    }
   ],
   "source": [
    "from bs4 import BeautifulSoup\n",
    "\n",
    "import requests\n",
    "url = BeautifulSoup('https://www.onlinekhabar.com/content/news','html.parser')"
   ]
  },
  {
   "cell_type": "code",
   "execution_count": 3,
   "metadata": {},
   "outputs": [
    {
     "name": "stdout",
     "output_type": "stream",
     "text": [
      "<?xml version=\"1.0\" encoding=\"utf-8\"?>\n",
      "\n"
     ]
    }
   ],
   "source": [
    "response = requests.get(url)\n",
    "data = response.text\n",
    "soup = BeautifulSoup(data,'xml')\n",
    "print(soup.prettify())"
   ]
  },
  {
   "cell_type": "code",
   "execution_count": 4,
   "metadata": {},
   "outputs": [
    {
     "ename": "AttributeError",
     "evalue": "'NoneType' object has no attribute 'find_all'",
     "output_type": "error",
     "traceback": [
      "\u001b[0;31m---------------------------------------------------------------------------\u001b[0m",
      "\u001b[0;31mAttributeError\u001b[0m                            Traceback (most recent call last)",
      "\u001b[0;32m<ipython-input-4-48e079417b96>\u001b[0m in \u001b[0;36m<module>\u001b[0;34m\u001b[0m\n\u001b[1;32m      1\u001b[0m \u001b[0mtags\u001b[0m \u001b[0;34m=\u001b[0m \u001b[0msoup\u001b[0m\u001b[0;34m.\u001b[0m\u001b[0ma\u001b[0m\u001b[0;34m\u001b[0m\u001b[0;34m\u001b[0m\u001b[0m\n\u001b[0;32m----> 2\u001b[0;31m \u001b[0mtag\u001b[0m \u001b[0;34m=\u001b[0m \u001b[0mtags\u001b[0m\u001b[0;34m.\u001b[0m\u001b[0mfind_all\u001b[0m\u001b[0;34m(\u001b[0m\u001b[0;34m'tr'\u001b[0m\u001b[0;34m,\u001b[0m \u001b[0malign\u001b[0m \u001b[0;34m=\u001b[0m \u001b[0;32mFalse\u001b[0m\u001b[0;34m)\u001b[0m\u001b[0;34m\u001b[0m\u001b[0;34m\u001b[0m\u001b[0m\n\u001b[0m\u001b[1;32m      3\u001b[0m \u001b[0mprint\u001b[0m\u001b[0;34m(\u001b[0m\u001b[0mtag\u001b[0m\u001b[0;34m)\u001b[0m\u001b[0;34m\u001b[0m\u001b[0;34m\u001b[0m\u001b[0m\n\u001b[1;32m      4\u001b[0m \u001b[0;34m\u001b[0m\u001b[0m\n\u001b[1;32m      5\u001b[0m \u001b[0mlist1\u001b[0m \u001b[0;34m=\u001b[0m \u001b[0;34m[\u001b[0m\u001b[0;34m]\u001b[0m\u001b[0;34m\u001b[0m\u001b[0;34m\u001b[0m\u001b[0m\n",
      "\u001b[0;31mAttributeError\u001b[0m: 'NoneType' object has no attribute 'find_all'"
     ]
    }
   ],
   "source": [
    "tags = soup.a\n",
    "tag = tags.find_all('tr', align = False)\n",
    "print(tag)\n",
    "\n",
    "list1 = []\n",
    "for t in tag:\n",
    "    list1.append(t.get_text())\n",
    "list1"
   ]
  },
  {
   "cell_type": "code",
   "execution_count": 8,
   "metadata": {},
   "outputs": [],
   "source": [
    "some = []\n",
    "for l in list1:\n",
    "    l1 = l.split('\\n')\n",
    "    l2 = l1[1:len(l1)-1]\n",
    "    some.append(l2)"
   ]
  },
  {
   "cell_type": "code",
   "execution_count": 18,
   "metadata": {},
   "outputs": [
    {
     "data": {
      "text/plain": [
       "[['S.N.',\n",
       "  'Contract No',\n",
       "  'Stock Symbol',\n",
       "  'Buyer Broker',\n",
       "  'Seller Broker',\n",
       "  'Quantity',\n",
       "  'Rate',\n",
       "  'Amount'],\n",
       " ['1', '2019121501009401', 'IGI', '35', '6', '100', '307', '30700.00'],\n",
       " ['2', '2019121501009402', 'KSBBL', '21', '51', '510', '141', '71910.00'],\n",
       " ['3', '2019121501009403', 'NICA', '36', '44', '127', '420', '53340.00'],\n",
       " ['4', '2019121501009404', 'NICA', '36', '44', '200', '420', '84000.00'],\n",
       " ['5', '2019121501009405', 'NICA', '36', '44', '100', '420', '42000.00'],\n",
       " ['6', '2019121501009406', 'NICA', '36', '44', '200', '420', '84000.00'],\n",
       " ['7', '2019121501009407', 'NICA', '36', '32', '496', '420', '208320.00'],\n",
       " ['8', '2019121501009408', 'NICA', '36', '46', '55', '420', '23100.00'],\n",
       " ['9', '2019121501009409', 'NICA', '36', '22', '200', '420', '84000.00'],\n",
       " ['10', '2019121501009410', 'NICA', '36', '41', '122', '420', '51240.00'],\n",
       " ['11', '2019121501009411', 'MBL', '33', '55', '10', '224', '2240.00'],\n",
       " ['12', '2019121501009412', 'SICL', '46', '1', '30', '860', '25800.00'],\n",
       " ['13', '2019121501009413', 'GFCL', '17', '42', '50', '136', '6800.00'],\n",
       " ['14', '2019121501009414', 'GFCL', '17', '41', '21', '136', '2856.00'],\n",
       " ['15', '2019121501009415', 'GFCL', '17', '1', '29', '138', '4002.00'],\n",
       " ['16', '2019121501009416', 'SLBBL', '32', '37', '10', '566', '5660.00'],\n",
       " ['17', '2019121501009417', 'GMFBS', '28', '43', '10', '580', '5800.00'],\n",
       " ['18', '2019121501009418', 'UIC', '57', '3', '115', '292', '33580.00'],\n",
       " ['19', '2019121501009419', 'UIC', '50', '3', '100', '290', '29000.00'],\n",
       " ['20', '2019121501009420', 'UIC', '22', '3', '100', '290', '29000.00'],\n",
       " ['Page 1/47712345678910NextLast'],\n",
       " ['Total Amount Rs.', '686,076,111'],\n",
       " ['Total Quantity', '2,072,236']]"
      ]
     },
     "execution_count": 18,
     "metadata": {},
     "output_type": "execute_result"
    }
   ],
   "source": [
    "some"
   ]
  },
  {
   "cell_type": "code",
   "execution_count": 9,
   "metadata": {},
   "outputs": [],
   "source": [
    "some1  = some[:len(some)-3]\n"
   ]
  },
  {
   "cell_type": "code",
   "execution_count": 10,
   "metadata": {},
   "outputs": [
    {
     "data": {
      "text/plain": [
       "[]"
      ]
     },
     "execution_count": 10,
     "metadata": {},
     "output_type": "execute_result"
    }
   ],
   "source": [
    "some1"
   ]
  },
  {
   "cell_type": "code",
   "execution_count": 11,
   "metadata": {},
   "outputs": [],
   "source": [
    "x = [['S.N.',\n",
    "  'Contract No',\n",
    "  'Stock Symbol',\n",
    "  'Buyer Broker',\n",
    "  'Seller Broker',\n",
    "  'Quantity',\n",
    "  'Rate',\n",
    "  'Amount'],\n",
    " ['1', '2019121501009401', 'IGI', '35', '6', '100', '307', '30700.00'],\n",
    " ['2', '2019121501009402', 'KSBBL', '21', '51', '510', '141', '71910.00'],\n",
    " ['3', '2019121501009403', 'NICA', '36', '44', '127', '420', '53340.00'],\n",
    " ['4', '2019121501009404', 'NICA', '36', '44', '200', '420', '84000.00'],\n",
    " ['5', '2019121501009405', 'NICA', '36', '44', '100', '420', '42000.00'],\n",
    " ['6', '2019121501009406', 'NICA', '36', '44', '200', '420', '84000.00'],\n",
    " ['7', '2019121501009407', 'NICA', '36', '32', '496', '420', '208320.00'],\n",
    " ['8', '2019121501009408', 'NICA', '36', '46', '55', '420', '23100.00'],\n",
    " ['9', '2019121501009409', 'NICA', '36', '22', '200', '420', '84000.00'],\n",
    " ['10', '2019121501009410', 'NICA', '36', '41', '122', '420', '51240.00'],\n",
    " ['11', '2019121501009411', 'MBL', '33', '55', '10', '224', '2240.00'],\n",
    " ['12', '2019121501009412', 'SICL', '46', '1', '30', '860', '25800.00'],\n",
    " ['13', '2019121501009413', 'GFCL', '17', '42', '50', '136', '6800.00'],\n",
    " ['14', '2019121501009414', 'GFCL', '17', '41', '21', '136', '2856.00'],\n",
    " ['15', '2019121501009415', 'GFCL', '17', '1', '29', '138', '4002.00'],\n",
    " ['16', '2019121501009416', 'SLBBL', '32', '37', '10', '566', '5660.00'],\n",
    " ['17', '2019121501009417', 'GMFBS', '28', '43', '10', '580', '5800.00'],\n",
    " ['18', '2019121501009418', 'UIC', '57', '3', '115', '292', '33580.00'],\n",
    " ['19', '2019121501009419', 'UIC', '50', '3', '100', '290', '29000.00'],\n",
    " ['20', '2019121501009420', 'UIC', '22', '3', '100', '290', '29000.00']]"
   ]
  },
  {
   "cell_type": "code",
   "execution_count": 12,
   "metadata": {},
   "outputs": [],
   "source": [
    "import csv\n",
    "xlen = len(x)\n",
    "row = x\n",
    "with open('stockmarket.csv', 'a') as csvFile:\n",
    "    for i in range(xlen):\n",
    "        writer = csv.writer(csvFile)\n",
    "        writer.writerow(row[i])\n",
    "csvFile.close()\n"
   ]
  },
  {
   "cell_type": "code",
   "execution_count": null,
   "metadata": {},
   "outputs": [],
   "source": []
  }
 ],
 "metadata": {
  "kernelspec": {
   "display_name": "Python 3",
   "language": "python",
   "name": "python3"
  },
  "language_info": {
   "codemirror_mode": {
    "name": "ipython",
    "version": 3
   },
   "file_extension": ".py",
   "mimetype": "text/x-python",
   "name": "python",
   "nbconvert_exporter": "python",
   "pygments_lexer": "ipython3",
   "version": "3.7.7"
  }
 },
 "nbformat": 4,
 "nbformat_minor": 2
}
