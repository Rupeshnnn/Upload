{
 "cells": [
  {
   "cell_type": "code",
   "execution_count": 5,
   "metadata": {},
   "outputs": [],
   "source": [
    "from bs4 import BeautifulSoup\n",
    "import pandas as pd\n",
    "\n",
    "import requests"
   ]
  },
  {
   "cell_type": "code",
   "execution_count": 6,
   "metadata": {},
   "outputs": [],
   "source": [
    "# get title and stories of given category\n",
    "sub=\"political\"\n",
    "pages=1\n",
    "\n",
    "title_list=[]\n",
    "desc_list=[]\n",
    "\n",
    "for page in range(1,pages+1):\n",
    "    url=\"https://english.onlinekhabar.com/category/\"+sub+\"/page/\"+format(page)\n",
    "    main_url=\"https://english.onlinekhabar.com/\"\n",
    "    response = requests.get(url)\n",
    "    data = response.text\n",
    "    soup = BeautifulSoup(response.content,\"lxml\")\n",
    "    data = soup.findAll('div',class_=\"travel-container\")#div lay class='tarvel-container' vitra ko link lae extract garxa\n",
    "    for div in data:\n",
    "        links = div.findAll('a')\n",
    "        for a in links:\n",
    "            if(a['href'].startswith(main_url) and a['href'].startswith('category',33)!=True ): #dont get category, pagination url\n",
    "                list=a['href'].split(main_url)[1] #get only the title, remove main url from link\n",
    "                if(list not in title_list):\n",
    "                    title_list.append(list[:-5].replace(\"-\", \" \")) #remove .html and replace - with space in title\n",
    "                    url=main_url+list\n",
    "                    response = requests.get(url)\n",
    "                    data = response.text\n",
    "                    soup = BeautifulSoup(response.content,\"html.parser\")\n",
    "                    data = soup.findAll('div',class_=\"oke-content-wrap\")\n",
    "                    for div in data:\n",
    "                        links = div.findAll('p')\n",
    "                        story = \"\"\n",
    "                        for a in links[1:-2]:   # remove 1st and last 2 p tags\n",
    "                            story += a.text   \n",
    "                            \n",
    "                    desc_list.append(story)\n",
    "                    \n",
    "                    \n",
    "                    \n",
    "\n",
    "df = pd.DataFrame({'Category':sub,'Title':title_list,'Story':desc_list}) \n",
    "df.to_csv('online-khabar-'+sub+'.csv', index=False, encoding='utf-8')   "
   ]
  },
  {
   "cell_type": "code",
   "execution_count": null,
   "metadata": {},
   "outputs": [],
   "source": []
  },
  {
   "cell_type": "code",
   "execution_count": null,
   "metadata": {},
   "outputs": [],
   "source": []
  },
  {
   "cell_type": "code",
   "execution_count": null,
   "metadata": {},
   "outputs": [],
   "source": []
  },
  {
   "cell_type": "code",
   "execution_count": 7,
   "metadata": {},
   "outputs": [
    {
     "ename": "NameError",
     "evalue": "name 'p' is not defined",
     "output_type": "error",
     "traceback": [
      "\u001b[0;31m---------------------------------------------------------------------------\u001b[0m",
      "\u001b[0;31mNameError\u001b[0m                                 Traceback (most recent call last)",
      "\u001b[0;32m<ipython-input-7-85b9252d35b6>\u001b[0m in \u001b[0;36m<module>\u001b[0;34m\u001b[0m\n\u001b[1;32m     13\u001b[0m         \u001b[0mp\u001b[0m \u001b[0;34m+=\u001b[0m \u001b[0ma\u001b[0m\u001b[0;34m.\u001b[0m\u001b[0mtext\u001b[0m\u001b[0;34m\u001b[0m\u001b[0;34m\u001b[0m\u001b[0m\n\u001b[1;32m     14\u001b[0m \u001b[0;34m\u001b[0m\u001b[0m\n\u001b[0;32m---> 15\u001b[0;31m \u001b[0mprint\u001b[0m\u001b[0;34m(\u001b[0m\u001b[0mp\u001b[0m\u001b[0;34m)\u001b[0m\u001b[0;34m\u001b[0m\u001b[0;34m\u001b[0m\u001b[0m\n\u001b[0m",
      "\u001b[0;31mNameError\u001b[0m: name 'p' is not defined"
     ]
    }
   ],
   "source": [
    "# get story of given story\n",
    "\n",
    "url=\"https://english.onlinekhabar.com/samajwadi-party-rjpn-unification-unlikely-anytime-soon.html\"\n",
    "main_url=\"https://english.onlinekhabar.com/\"\n",
    "response = requests.get(url)\n",
    "data = response.text\n",
    "soup = BeautifulSoup(response.content,\"lxml\")\n",
    "data = soup.findAll('div',class_=\"oke-content-wrap\")\n",
    "for div in data:\n",
    "    links = div.findAll('p')\n",
    "    p = \"\"\n",
    "    for a in links[1:-2]:\n",
    "        p += a.text\n",
    "    \n",
    "print(p)"
   ]
  },
  {
   "cell_type": "code",
   "execution_count": 4,
   "metadata": {},
   "outputs": [
    {
     "name": "stdout",
     "output_type": "stream",
     "text": [
      "hi there boy\n"
     ]
    }
   ],
   "source": [
    "s=\"hi.there.boy\"\n",
    "a=s.replace(\".\", \" \")\n",
    "print(a)"
   ]
  },
  {
   "cell_type": "code",
   "execution_count": 5,
   "metadata": {},
   "outputs": [
    {
     "name": "stdout",
     "output_type": "stream",
     "text": [
      "1\n",
      "2\n",
      "3\n",
      "4\n",
      "5\n"
     ]
    }
   ],
   "source": [
    "a=5\n",
    "for i in range(1,a+1):\n",
    "    print(i)"
   ]
  },
  {
   "cell_type": "code",
   "execution_count": 3,
   "metadata": {},
   "outputs": [],
   "source": [
    "# get images of given category\n",
    "\n",
    "import requests\n",
    "from os.path  import basename\n",
    "\n",
    "url=\"https://english.onlinekhabar.com/selfie-king-movie-review-powerful-tragedy-in-mediocre-making.html\"\n",
    "main_url=\"https://english.onlinekhabar.com/\"\n",
    "response = requests.get(url)\n",
    "data = response.text\n",
    "soup = BeautifulSoup(response.content,\"lxml\")\n",
    "data = soup.findAll('div',class_=\"oke-content-wrap\")\n",
    "\n",
    "\n",
    "for link in data:\n",
    "    links = link.findAll('img')\n",
    "    for i in links:\n",
    "        lnk = i['src']\n",
    "        print(lnk)\n",
    "        with open('/home/rupesh/Pictures/11'+basename(lnk), \"wb\") as f:\n",
    "                f.write(requests.get(lnk).content)"
   ]
  },
  {
   "cell_type": "code",
   "execution_count": 4,
   "metadata": {},
   "outputs": [],
   "source": [
    "# get all images of given category\n",
    "\n",
    "sub=\"political\"\n",
    "pages=5\n",
    "\n",
    "for page in range(1,pages+1):\n",
    "    url=\"https://english.onlinekhabar.com/category/\"+sub+\"/page/\"+format(page)\n",
    "    main_url=\"https://english.onlinekhabar.com/\"\n",
    "    response = requests.get(url)\n",
    "    data = response.text\n",
    "    soup = BeautifulSoup(response.content,\"lxml\")\n",
    "    data = soup.findAll('div',class_=\"travel-container\")\n",
    "    for div in data:\n",
    "        links = div.findAll('a')\n",
    "        for a in links:\n",
    "            if(a['href'].startswith(main_url) and a['href'].startswith('category',33)!=True ): #dont get category, pagination url\n",
    "                list=a['href'].split(main_url)[1] #get only the title, remove main url from link\n",
    "                url=main_url+list\n",
    "                response = requests.get(url)\n",
    "                data = response.text\n",
    "                soup = BeautifulSoup(response.content,\"html.parser\")\n",
    "                data = soup.findAll('div',class_=\"oke-content-wrap\")\n",
    "                for link in data:\n",
    "                    links = link.findAll('img')\n",
    "                    for i in links:\n",
    "                        lnk = i['src']\n",
    "                        print(lnk)\n",
    "                        with open('scraped_images/'+basename(lnk), \"wb\") as f:\n",
    "                            f.write(requests.get(lnk).content)"
   ]
  },
  {
   "cell_type": "code",
   "execution_count": 1,
   "metadata": {},
   "outputs": [
    {
     "name": "stdout",
     "output_type": "stream",
     "text": [
      "/images/branding/searchlogo/1x/googlelogo_desk_heirloom_color_150x55dp.gif\n",
      "https://encrypted-tbn0.gstatic.com/images?q=tbn:ANd9GcT2hI_3A4TKST0HmlFR1Br8-FrRwm7MhkzlCxImxtpVeEGIngpTfyZ9iEa0SS0&s\n",
      "https://encrypted-tbn0.gstatic.com/images?q=tbn:ANd9GcSaIEjUeQmRtAPqa206dhgDJuAVdovscj6Scxye2FvlN4_CHf1kLrTfjdiYrw&s\n",
      "https://encrypted-tbn0.gstatic.com/images?q=tbn:ANd9GcSWhXw-SuriLGpPN4xkRN7JeKRfe6ve_oY0G7mHSZaUJ8lXiiFvABFpd72-z0k&s\n",
      "https://encrypted-tbn0.gstatic.com/images?q=tbn:ANd9GcSCAkgyUWjxZf2k6gMdCwKZfyHRunW6laG7V_RDQvqJ-WI8XIGyKWRbgIKfkXs&s\n",
      "https://encrypted-tbn0.gstatic.com/images?q=tbn:ANd9GcRcnsZ-IpWS6HXr6TbJcbnMfrn8-elezlBLcUrM4XroPAbFbJRFylqQoALiLA&s\n",
      "https://encrypted-tbn0.gstatic.com/images?q=tbn:ANd9GcTltwTAzU1H-waZRij3leZBUvFXRYQ0zg_DimECHy15wSmOgYELp5M-9GOi5h4&s\n",
      "https://encrypted-tbn0.gstatic.com/images?q=tbn:ANd9GcQpEPs6OzeZseb-LvnqZGty5j4lTd_Kv18gPvL87DhhlNSwtPmAT6diUT7eqJc&s\n",
      "https://encrypted-tbn0.gstatic.com/images?q=tbn:ANd9GcQA27OQhF5UJ_STOL6HljZ0WRxGtRks-n6E_Mq9emazF-onpOve6bN-hUfftg&s\n",
      "https://encrypted-tbn0.gstatic.com/images?q=tbn:ANd9GcQL08bNzpW2Z3WCdkpZ5TEMERm6nOmI06HsjzaqT0shvQxtKRGI0zmi2rfBAIU&s\n",
      "https://encrypted-tbn0.gstatic.com/images?q=tbn:ANd9GcQPZmYkAi-mnia7i2Q3S63SCks4LYS4aAvnxMLkJ4WwNb8YqDnCo2F2d3NEoQ&s\n",
      "https://encrypted-tbn0.gstatic.com/images?q=tbn:ANd9GcSvKf0Hg36oj_CKvYcuGLyiXtAVIjkZdJ3J0K3wdgCZRCthYL7-bZFDKcyH3Q&s\n",
      "https://encrypted-tbn0.gstatic.com/images?q=tbn:ANd9GcSWpy63EzrCRb1KusvgDIEi133GS8mNwM61KQelH4yzg_iwgbUMOnF1C8eIdn4&s\n",
      "https://encrypted-tbn0.gstatic.com/images?q=tbn:ANd9GcTDhqwbMDoaxt6pvl0PXxGcWdswP2aTklezdl1lKDY_sl6AGcXETfqC5hUVKRs&s\n",
      "https://encrypted-tbn0.gstatic.com/images?q=tbn:ANd9GcTXFGBkhCWN0uFUacelq53zOELdxgPRi3boa6vG5nh2pNzBPKrTjtXheAJswg&s\n",
      "https://encrypted-tbn0.gstatic.com/images?q=tbn:ANd9GcQ5nloTmauj2EcZIsGAIolAc-u0Zy11PE2AKaGYmHIEfwhVbkRfZtN_OqB57Ms&s\n",
      "https://encrypted-tbn0.gstatic.com/images?q=tbn:ANd9GcRT02nTXXH5EhUbB0U37zohPF9gRUgXkLh5ocUbmDoW4B6LX62d6EMcVM19hg&s\n",
      "https://encrypted-tbn0.gstatic.com/images?q=tbn:ANd9GcSy2Tu1Mzi_UP4is_3NCIvLm6C9EMiRRY5gGQBm9RuI-8CuDwgO_jh10rNg7g&s\n",
      "https://encrypted-tbn0.gstatic.com/images?q=tbn:ANd9GcTj2r-qbBX43cWYK5tbZiwMX1pzwXxhnzKXFELZ66yaZ809ISyUNYcZO1Y2uvU&s\n",
      "https://encrypted-tbn0.gstatic.com/images?q=tbn:ANd9GcSdQwDcPuJTG-j-RkXp2Qw7GOZmhx2BgQU-j7YxaYgXLfNX6EKyGxd3M4xKmsE&s\n",
      "https://encrypted-tbn0.gstatic.com/images?q=tbn:ANd9GcQncVMabZ_zHzfraFdu-PaDxL-qdGs5x_5a1FoccEQ5sTPZu0Yiqpc4RT1JZ9Y&s\n"
     ]
    }
   ],
   "source": [
    "from bs4 import BeautifulSoup\n",
    "import requests\n",
    "\n",
    "url = 'https://www.google.com/search?q=cat+images&sxsrf=ALeKk01f1FzWTRCvOamJzC8xiah-X04DFA:1601006507245&source=lnms&tbm=isch&sa=X&ved=2ahUKEwiFzpaBtoPsAhVc4jgGHSmVCPkQ_AUoAXoECA0QAw&biw=1299&bih=588'\n",
    "# get contents from url\n",
    "content = requests.get(url).content\n",
    "# get soup\n",
    "soup = BeautifulSoup(content,'lxml') # choose lxml parser\n",
    "# find the tag : <img ... >\n",
    "image_tags = soup.findAll('img')\n",
    "# print out image urls\n",
    "for image_tag in image_tags:\n",
    "    print(image_tag.get('src'))"
   ]
  },
  {
   "cell_type": "code",
   "execution_count": 1,
   "metadata": {},
   "outputs": [],
   "source": [
    "def get_images_links(searchTerm):\n",
    "\n",
    "    import requests\n",
    "    from bs4 import BeautifulSoup\n",
    "\n",
    "    searchUrl = \"https://www.google.com/search?q={}&site=webhp&tbm=isch\".format(searchTerm)\n",
    "    d = requests.get(searchUrl).text\n",
    "    soup = BeautifulSoup(d, 'html.parser')\n",
    "\n",
    "    img_tags = soup.find_all('img')\n",
    "\n",
    "    imgs_urls = []\n",
    "    for img in img_tags:\n",
    "        if img['src'].startswith(\"http\"):\n",
    "            imgs_urls.append(img['src'])\n",
    "\n",
    "    return(imgs_urls)"
   ]
  },
  {
   "cell_type": "code",
   "execution_count": 2,
   "metadata": {},
   "outputs": [
    {
     "data": {
      "text/plain": [
       "['https://encrypted-tbn0.gstatic.com/images?q=tbn:ANd9GcSCjOPgaFvhfOaavJ633KmaoTZgih2UmmlxjzPB79tXcxhA9bn5BJ8hjKenKQ&s',\n",
       " 'https://encrypted-tbn0.gstatic.com/images?q=tbn:ANd9GcTgbO6u7AFJUo14jWB0TcBD4iTy4sL2bszHrJTI4JAqn1uLRnu0R0CNgEEtz44&s',\n",
       " 'https://encrypted-tbn0.gstatic.com/images?q=tbn:ANd9GcQ1C0NTAVfctR3ZBMwiibyhDdD98ZH5oy_k9r14u9RDvtNFy9u7VVFUqDwg6Q&s',\n",
       " 'https://encrypted-tbn0.gstatic.com/images?q=tbn:ANd9GcT1_b-KIJfik6wABzZV-s7uHSrTDYvG7Ax52wxk0BTf3FhCdVpwPZj4_SCVlOc&s',\n",
       " 'https://encrypted-tbn0.gstatic.com/images?q=tbn:ANd9GcQ4UzXMBfUFPkMtRdvCj6wGLGGL-xtTXxwazlTpLGu2ttFwUlO1WdRYQE55Ag&s',\n",
       " 'https://encrypted-tbn0.gstatic.com/images?q=tbn:ANd9GcRkB5CG85tk4ERayVMguPHOt3XaskhWTm070bHciHXAj204w1DEYReCpO_xww&s',\n",
       " 'https://encrypted-tbn0.gstatic.com/images?q=tbn:ANd9GcRDyHwiW3rFpGerag6PSchVilQwjJCFogIwZeTg-26Hyw38lFRgGoOnnpeyOQ&s',\n",
       " 'https://encrypted-tbn0.gstatic.com/images?q=tbn:ANd9GcQU1hI4MqAlzUBJqG5dCIExalVM-MJ2NFsG0R8JAC-i7lu4_yVmOXI_TQ2ZQg&s',\n",
       " 'https://encrypted-tbn0.gstatic.com/images?q=tbn:ANd9GcT8uvfwwdTiSg28o66jTznI5kLtoR0lRytHsBEHgybT7wVGCGIvcoxwygejERo&s',\n",
       " 'https://encrypted-tbn0.gstatic.com/images?q=tbn:ANd9GcQbQ7koeyp1vwMNcf88E5v81a1xrVbg6kNsjEhxW_ot2etQKSfILrE9Hn0E__s&s',\n",
       " 'https://encrypted-tbn0.gstatic.com/images?q=tbn:ANd9GcR7XW8aPfCVCT0YkFfbEGLYZVbIFcEe0S3IIvhjJkhdNl2DvMUu9t2Hy6gJyQ&s',\n",
       " 'https://encrypted-tbn0.gstatic.com/images?q=tbn:ANd9GcTbrHIzSSeU-b0AYl6ZeszJzPcWR6Gxv52R6jQsnW2QewtcUgyotSX_ap9EhRM&s',\n",
       " 'https://encrypted-tbn0.gstatic.com/images?q=tbn:ANd9GcR_uWNma1y6ZRpeO-YthpVM0tTMcg2m4YES8nObH4s3Ug_QRYcuIJEg_6kR7Q&s',\n",
       " 'https://encrypted-tbn0.gstatic.com/images?q=tbn:ANd9GcTXjkC2sz2cvf6FapTESHbLjZ4unf6tset_0bax71mMlx6-b2bMQD3HAF1Gqg&s',\n",
       " 'https://encrypted-tbn0.gstatic.com/images?q=tbn:ANd9GcTvu0zGCS_KqxyHzJe8e2KKm9yvg3fhFEZ2Yuw2NuYxcBNSkV6BdbHWvMB7h68&s',\n",
       " 'https://encrypted-tbn0.gstatic.com/images?q=tbn:ANd9GcQbS3H3ASURrFlaAgmgkP78UGxDRgsUrYr02lHzMT-hkPNHvUTmNwnmHn4s8xY&s',\n",
       " 'https://encrypted-tbn0.gstatic.com/images?q=tbn:ANd9GcQC2XtOaN6PNwdJUYS5uKyZqZb3HF4ad6IkA1fqomtghaOqqwT-tXRn8Z4DIg&s',\n",
       " 'https://encrypted-tbn0.gstatic.com/images?q=tbn:ANd9GcTSNCYIX8JaTRKvYpaKieRrIjeczusFu241CyMwxlO4TMlDu8EKzSj6mTNRCD0&s',\n",
       " 'https://encrypted-tbn0.gstatic.com/images?q=tbn:ANd9GcQozYONQkllNk9Yyj-R5qAeK52QVwxPTxiSdAY_FhkHWXJu4C0SmeaCeI_nWg&s',\n",
       " 'https://encrypted-tbn0.gstatic.com/images?q=tbn:ANd9GcSqTZzp1WgFeJQjJZj-OthpKYH8R06A-Cg2_w6mBSyVDAI6NOzUCaeAOwea6mo&s']"
      ]
     },
     "execution_count": 2,
     "metadata": {},
     "output_type": "execute_result"
    }
   ],
   "source": [
    "get_images_links('computer')\n"
   ]
  },
  {
   "cell_type": "code",
   "execution_count": null,
   "metadata": {},
   "outputs": [],
   "source": []
  }
 ],
 "metadata": {
  "kernelspec": {
   "display_name": "Python 3",
   "language": "python",
   "name": "python3"
  },
  "language_info": {
   "codemirror_mode": {
    "name": "ipython",
    "version": 3
   },
   "file_extension": ".py",
   "mimetype": "text/x-python",
   "name": "python",
   "nbconvert_exporter": "python",
   "pygments_lexer": "ipython3",
   "version": "3.7.7"
  }
 },
 "nbformat": 4,
 "nbformat_minor": 2
}
