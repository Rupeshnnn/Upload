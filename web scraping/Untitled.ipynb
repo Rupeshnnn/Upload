{
 "cells": [
  {
   "cell_type": "code",
   "execution_count": 5,
   "metadata": {},
   "outputs": [],
   "source": [
    "import cv2\n",
    "import numpy as np\n",
    "import urllib.request\n",
    "import time"
   ]
  },
  {
   "cell_type": "code",
   "execution_count": 10,
   "metadata": {},
   "outputs": [],
   "source": [
    "url = 'https://media.gettyimages.com/photos/nepalese-woman-dressed-in-a-traditional-attire-makes-a-gesture-during-picture-id1191105954?k=6&m=1191105954&s=612x612&w=0&h=F1WBuUjYqdEv-Q1SPB3vyn1HzQnI6X7TK1OQw67YTpg='"
   ]
  },
  {
   "cell_type": "code",
   "execution_count": null,
   "metadata": {},
   "outputs": [],
   "source": [
    "for i in range(1,235):\n",
    "    "
   ]
  },
  {
   "cell_type": "code",
   "execution_count": 13,
   "metadata": {},
   "outputs": [
    {
     "name": "stderr",
     "output_type": "stream",
     "text": [
      "usage: ipykernel_launcher.py [-h] [-s SEARCH] [-n NUM_IMAGES] [-d DIRECTORY]\n",
      "ipykernel_launcher.py: error: unrecognized arguments: -f /home/rupesh/.local/share/jupyter/runtime/kernel-18c7870e-99e5-40ff-8aec-d12a1ff89e97.json\n"
     ]
    },
    {
     "ename": "SystemExit",
     "evalue": "2",
     "output_type": "error",
     "traceback": [
      "An exception has occurred, use %tb to see the full traceback.\n",
      "\u001b[0;31mSystemExit\u001b[0m\u001b[0;31m:\u001b[0m 2\n"
     ]
    },
    {
     "name": "stderr",
     "output_type": "stream",
     "text": [
      "/home/rupesh/anaconda3/lib/python3.7/site-packages/IPython/core/interactiveshell.py:3425: UserWarning: To exit: use 'exit', 'quit', or Ctrl-D.\n",
      "  warn(\"To exit: use 'exit', 'quit', or Ctrl-D.\", stacklevel=1)\n"
     ]
    }
   ],
   "source": [
    "from bs4 import BeautifulSoup\n",
    "import requests\n",
    "import re\n",
    "import urllib.request as urllib2\n",
    "import os\n",
    "import argparse\n",
    "import sys\n",
    "import json\n",
    "\n",
    "# adapted from http://stackoverflow.com/questions/20716842/python-download-images-from-google-image-search\n",
    "\n",
    "def get_soup(url,header):\n",
    "    return BeautifulSoup(urllib2.urlopen(urllib2.Request(url,headers=header)),'html.parser')\n",
    "\n",
    "def main(args):\n",
    "\tparser = argparse.ArgumentParser(description='Scrape Google images')\n",
    "\tparser.add_argument('-s', '--search', default='bananas', type=str, help='search term')\n",
    "\tparser.add_argument('-n', '--num_images', default=10, type=int, help='num images to save')\n",
    "\tparser.add_argument('-d', '--directory', default='/Users/gene/Downloads/', type=str, help='save directory')\n",
    "\targs = parser.parse_args()\n",
    "\tquery = args.search#raw_input(args.search)\n",
    "\tmax_images = args.num_images\n",
    "\tsave_directory = args.directory\n",
    "\timage_type=\"Action\"\n",
    "\tquery= query.split()\n",
    "\tquery='+'.join(query)\n",
    "\turl=\"https://www.google.co.in/search?q=\"+query+\"&source=lnms&tbm=isch\"\n",
    "\theader={'User-Agent':\"Mozilla/5.0 (Windows NT 6.1; WOW64) AppleWebKit/537.36 (KHTML, like Gecko) Chrome/43.0.2357.134 Safari/537.36\"}\n",
    "\tsoup = get_soup(url,header)\n",
    "\tActualImages=[]# contains the link for Large original images, type of  image\n",
    "\tfor a in soup.find_all(\"div\",{\"class\":\"rg_meta\"}):\n",
    "\t    link , Type =json.loads(a.text)[\"ou\"]  ,json.loads(a.text)[\"ity\"]\n",
    "\t    ActualImages.append((link,Type))\n",
    "\tfor i , (img , Type) in enumerate( ActualImages[0:max_images]):\n",
    "\t    try:\n",
    "\t        req = urllib2.Request(img, headers={'User-Agent' : header})\n",
    "\t        raw_img = urllib2.urlopen(req).read()\n",
    "\t        if len(Type)==0:\n",
    "\t            f = open(os.path.join(save_directory , \"img\" + \"_\"+ str(i)+\".jpg\"), 'wb')\n",
    "\t        else :\n",
    "\t            f = open(os.path.join(save_directory , \"img\" + \"_\"+ str(i)+\".\"+Type), 'wb')\n",
    "\t        f.write(raw_img)\n",
    "\t        f.close()\n",
    "\t    except Exception as e:\n",
    "\t        print (\"could not load : \"+img)\n",
    "\t        print (e)\n",
    "\n",
    "if __name__ == '__main__':\n",
    "    from sys import argv\n",
    "    try:\n",
    "        main(argv)\n",
    "    except KeyboardInterrupt:\n",
    "        pass\n",
    "    sys.exit()\n"
   ]
  },
  {
   "cell_type": "code",
   "execution_count": null,
   "metadata": {},
   "outputs": [],
   "source": []
  },
  {
   "cell_type": "code",
   "execution_count": null,
   "metadata": {},
   "outputs": [],
   "source": []
  },
  {
   "cell_type": "code",
   "execution_count": null,
   "metadata": {},
   "outputs": [],
   "source": []
  },
  {
   "cell_type": "code",
   "execution_count": null,
   "metadata": {},
   "outputs": [],
   "source": []
  }
 ],
 "metadata": {
  "kernelspec": {
   "display_name": "Python 3",
   "language": "python",
   "name": "python3"
  },
  "language_info": {
   "codemirror_mode": {
    "name": "ipython",
    "version": 3
   },
   "file_extension": ".py",
   "mimetype": "text/x-python",
   "name": "python",
   "nbconvert_exporter": "python",
   "pygments_lexer": "ipython3",
   "version": "3.7.7"
  }
 },
 "nbformat": 4,
 "nbformat_minor": 4
}
